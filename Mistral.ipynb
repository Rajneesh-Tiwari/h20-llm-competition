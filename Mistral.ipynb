{
 "cells": [
  {
   "cell_type": "code",
   "execution_count": 1,
   "id": "e4ba78d5-06be-4c3f-8d93-c5b1ad276a34",
   "metadata": {},
   "outputs": [],
   "source": [
    "from peft import get_peft_config, PeftModel, PeftConfig, get_peft_model, LoraConfig, TaskType # type: ignore\n",
    "from transformers import BitsAndBytesConfig\n",
    "import torch\n",
    "from sklearn.model_selection import KFold, GroupKFold, StratifiedKFold,StratifiedGroupKFold\n",
    "import numpy as np\n",
    "import random\n",
    "import pandas as pd\n",
    "import os\n",
    "from __future__ import annotations\n",
    "from datasets import Dataset\n",
    "from transformers import AutoTokenizer, LlamaForSequenceClassification, MistralForSequenceClassification\n",
    "from transformers import DataCollatorWithPadding\n",
    "from sklearn.metrics import log_loss\n",
    "from transformers import TrainingArguments, Trainer\n",
    "from shutil import rmtree\n",
    "from scipy.special import softmax\n",
    "import gc\n",
    "from pathlib import Path"
   ]
  },
  {
   "cell_type": "code",
   "execution_count": 2,
   "id": "2416a088-226f-4109-99b0-1fb53fbd5e8c",
   "metadata": {},
   "outputs": [],
   "source": [
    "os.environ[\"TOKENIZERS_PARALLELISM\"] = \"false\"\n",
    "os.environ['TF_CPP_MIN_LOG_LEVEL'] = '3' \n",
    "os.environ['TRANSFORMERS_CACHE'] = '///mnt/c/Personal/Competitions/HFCache/'\n",
    "os.environ['HF_HOME'] = '///mnt/c/Personal/Competitions/HFCache/'"
   ]
  },
  {
   "cell_type": "code",
   "execution_count": 3,
   "id": "cc7a1e72",
   "metadata": {},
   "outputs": [],
   "source": [
    "class Config:\n",
    "    # General settings\n",
    "    EXP_NAME = 'nb005'\n",
    "    competition_name = 'h2O_llm'\n",
    "    seed = 2022 #42\n",
    "    debug = False\n",
    "    train = True\n",
    "    n_fold = 5\n",
    "    TARGET_MODEL = \"mistralai/Mistral-7B-Instruct-v0.1\" #\"mistralai/Mistral-7B-v0.1\"\n",
    "    DEBUG = False\n",
    "    max_len = 2048\n",
    "    \n",
    "CFG = Config()"
   ]
  },
  {
   "cell_type": "code",
   "execution_count": 4,
   "id": "2eea2a5a-dba4-4b83-b477-69329a5cf1d3",
   "metadata": {},
   "outputs": [],
   "source": [
    "def seed_everything(seed, use_cuda = True):\n",
    "    np.random.seed(seed) # cpu vars\n",
    "    torch.manual_seed(seed) # cpu  vars\n",
    "    random.seed(seed) # Python\n",
    "    os.environ['PYTHONHASHSEED'] = str(seed) # Python hash building\n",
    "    if use_cuda:\n",
    "        torch.cuda.manual_seed(seed)\n",
    "        torch.cuda.manual_seed_all(seed) # gpu vars\n",
    "        torch.backends.cudnn.deterministic = True  #needed\n",
    "        torch.backends.cudnn.benchmark = False\n",
    "\n",
    "seed_everything(CFG.seed)"
   ]
  },
  {
   "cell_type": "code",
   "execution_count": 5,
   "id": "2cb5739f",
   "metadata": {},
   "outputs": [],
   "source": [
    "data_dir = \"///mnt/c/Personal/Competitions/Kaggle/h2oai-predict-the-llm/\"\n",
    "OUTPUT_DIR = f'///mnt/c/Personal/Competitions/Kaggle/h2oai-predict-the-llm/runs/' + CFG.EXP_NAME + \"/\"\n",
    "if not os.path.exists(OUTPUT_DIR):\n",
    "    os.makedirs(OUTPUT_DIR)\n",
    "\n",
    "train = pd.read_csv(data_dir + \"train.csv\").rename(columns={'target': 'label'})\n",
    "test = pd.read_csv(data_dir + \"test.csv\")\n",
    "sample_submission = pd.read_csv(data_dir + \"sample_submission.csv\")"
   ]
  },
  {
   "cell_type": "code",
   "execution_count": 6,
   "id": "96a9e7b6-beec-41a6-a11f-2929c6183915",
   "metadata": {},
   "outputs": [
    {
     "data": {
      "text/html": [
       "<div>\n",
       "<style scoped>\n",
       "    .dataframe tbody tr th:only-of-type {\n",
       "        vertical-align: middle;\n",
       "    }\n",
       "\n",
       "    .dataframe tbody tr th {\n",
       "        vertical-align: top;\n",
       "    }\n",
       "\n",
       "    .dataframe thead th {\n",
       "        text-align: right;\n",
       "    }\n",
       "</style>\n",
       "<table border=\"1\" class=\"dataframe\">\n",
       "  <thead>\n",
       "    <tr style=\"text-align: right;\">\n",
       "      <th></th>\n",
       "      <th>Question</th>\n",
       "      <th>Response</th>\n",
       "      <th>label</th>\n",
       "    </tr>\n",
       "  </thead>\n",
       "  <tbody>\n",
       "    <tr>\n",
       "      <th>0</th>\n",
       "      <td>Explain the concept of coevolution.</td>\n",
       "      <td>Coevolution is a biological process that occur...</td>\n",
       "      <td>3</td>\n",
       "    </tr>\n",
       "    <tr>\n",
       "      <th>1</th>\n",
       "      <td>Is it possible that recurring fever and chills...</td>\n",
       "      <td>Yes, recurring fever and chills can be a sympt...</td>\n",
       "      <td>4</td>\n",
       "    </tr>\n",
       "    <tr>\n",
       "      <th>2</th>\n",
       "      <td>Evaluate the expression 3!</td>\n",
       "      <td>The expression 3! represents the factorial of ...</td>\n",
       "      <td>1</td>\n",
       "    </tr>\n",
       "    <tr>\n",
       "      <th>3</th>\n",
       "      <td>What are the roles of different types of RNA i...</td>\n",
       "      <td>1. Messenger RNA (mRNA): mRNA carries genetic ...</td>\n",
       "      <td>3</td>\n",
       "    </tr>\n",
       "    <tr>\n",
       "      <th>4</th>\n",
       "      <td>What is the role of gene flow in population ge...</td>\n",
       "      <td>Gene flow refers to the movement of individual...</td>\n",
       "      <td>3</td>\n",
       "    </tr>\n",
       "  </tbody>\n",
       "</table>\n",
       "</div>"
      ],
      "text/plain": [
       "                                            Question  \\\n",
       "0                Explain the concept of coevolution.   \n",
       "1  Is it possible that recurring fever and chills...   \n",
       "2                         Evaluate the expression 3!   \n",
       "3  What are the roles of different types of RNA i...   \n",
       "4  What is the role of gene flow in population ge...   \n",
       "\n",
       "                                            Response  label  \n",
       "0  Coevolution is a biological process that occur...      3  \n",
       "1  Yes, recurring fever and chills can be a sympt...      4  \n",
       "2  The expression 3! represents the factorial of ...      1  \n",
       "3  1. Messenger RNA (mRNA): mRNA carries genetic ...      3  \n",
       "4  Gene flow refers to the movement of individual...      3  "
      ]
     },
     "execution_count": 6,
     "metadata": {},
     "output_type": "execute_result"
    }
   ],
   "source": [
    "train.head()"
   ]
  },
  {
   "cell_type": "code",
   "execution_count": 7,
   "id": "c8790bea-0126-4ef1-8c96-1f2329786ae7",
   "metadata": {},
   "outputs": [],
   "source": [
    "# train['Question'] = train['Question'].str.replace('\\n', '')\n",
    "# train['Response'] = train['Response'].str.replace('\\n', '')\n",
    "# test['Question'] = test['Question'].str.replace('\\n', '')\n",
    "# test['Response'] = test['Response'].str.replace('\\n', '')\n"
   ]
  },
  {
   "cell_type": "code",
   "execution_count": 8,
   "id": "fd737f80-00ce-48e5-b46d-c4584003ed75",
   "metadata": {},
   "outputs": [],
   "source": [
    "gkf = StratifiedGroupKFold(n_splits=CFG.n_fold,shuffle=True,random_state=CFG.seed)\n",
    "\n",
    "for i, (_, val_index) in enumerate(gkf.split(train, train[\"label\"],groups=train['Question'])):\n",
    "    train.loc[val_index, \"fold\"] = i\n",
    "\n",
    "train = train.fillna(\"NA\")\n",
    "test = test.fillna(\"NA\")"
   ]
  },
  {
   "cell_type": "code",
   "execution_count": 9,
   "id": "552609d5",
   "metadata": {},
   "outputs": [],
   "source": [
    "train['all_text'] = 'Question: ' + train.Question + '; Answer: ' + train.Response\n",
    "test['all_text'] = 'Question: ' + test.Question + '; Answer: ' + test.Response"
   ]
  },
  {
   "cell_type": "code",
   "execution_count": 10,
   "id": "374c348c",
   "metadata": {
    "scrolled": true
   },
   "outputs": [],
   "source": [
    "peft_config = LoraConfig(\n",
    "    r=16,\n",
    "    lora_alpha=32,\n",
    "    lora_dropout=0.1,\n",
    "    bias=\"none\",\n",
    "    task_type=TaskType.SEQ_CLS,\n",
    "    inference_mode=False,\n",
    "    target_modules=[\n",
    "        \"q_proj\",\n",
    "        \"v_proj\"\n",
    "    ],\n",
    ")\n",
    "\n",
    "bnb_config = BitsAndBytesConfig(\n",
    "    load_in_4bit=True,\n",
    "    bnb_4bit_quant_type=\"nf4\",\n",
    "    bnb_4bit_use_double_quant=True,\n",
    "    bnb_4bit_compute_dtype=torch.bfloat16\n",
    ")"
   ]
  },
  {
   "cell_type": "code",
   "execution_count": 11,
   "id": "50246e07-0ad2-4c29-ba8d-69ed603c0d1b",
   "metadata": {},
   "outputs": [],
   "source": [
    "def compute_metrics(eval_pred):\n",
    "    predictions, labels = eval_pred\n",
    "    predictions = softmax(predictions,axis=1)\n",
    "    print(predictions)\n",
    "    logloss_val = log_loss(labels, predictions)\n",
    "    \n",
    "    return {\n",
    "        \"logloss\": logloss_val,\n",
    "    }"
   ]
  },
  {
   "cell_type": "code",
   "execution_count": 12,
   "id": "75ec3c58",
   "metadata": {},
   "outputs": [],
   "source": [
    "def run(fld):\n",
    "    \n",
    "    tokenizer = AutoTokenizer.from_pretrained(CFG.TARGET_MODEL, use_fast=False)\n",
    "    tokenizer.pad_token = tokenizer.eos_token\n",
    "    # LlamaForSequenceClassification(\n",
    "    base_model = MistralForSequenceClassification.from_pretrained(\n",
    "        CFG.TARGET_MODEL,\n",
    "        num_labels=7,\n",
    "        cache_dir='///mnt/c/Personal/Competitions/HFCache/',\n",
    "        quantization_config=bnb_config,\n",
    "        device_map={\"\":0})\n",
    "    \n",
    "    # base_model.config.pretraining_tp = 1 # 1 is 7b\n",
    "    base_model.config.pad_token_id = tokenizer.pad_token_id\n",
    "    model = get_peft_model(base_model, peft_config)\n",
    "    model.print_trainable_parameters()\n",
    "\n",
    "    train_df = train[train['fold']!=fld].reset_index(drop=True)\n",
    "    valid_df = train[train['fold']==fld].reset_index(drop=True)\n",
    "\n",
    "    print('train shape:',train_df.shape, 'valid shape:',valid_df.shape)\n",
    "    # from pandas\n",
    "    train_ds = Dataset.from_pandas(train_df)\n",
    "    valid_ds = Dataset.from_pandas(valid_df)\n",
    "\n",
    "    def preprocess_function(examples, max_length=CFG.max_len):\n",
    "        return tokenizer(examples[\"all_text\"], \n",
    "                         truncation=True, \n",
    "                         max_length=max_length, \n",
    "                         padding=True)\n",
    "\n",
    "    train_tokenized_ds = train_ds.map(preprocess_function, batched=True)\n",
    "    valid_tokenized_ds = valid_ds.map(preprocess_function, batched=True)\n",
    "\n",
    "    data_collator = DataCollatorWithPadding(tokenizer=tokenizer, padding=\"longest\")    \n",
    "    model_fold_dir = os.path.join(OUTPUT_DIR,str(fld)) \n",
    "    \n",
    "    training_args = TrainingArguments(\n",
    "        output_dir=model_fold_dir,\n",
    "        learning_rate=3e-4,#5e-5,\n",
    "        per_device_train_batch_size=1,\n",
    "        per_device_eval_batch_size=1,\n",
    "        gradient_accumulation_steps=32,\n",
    "        max_grad_norm=0.3,\n",
    "        optim='paged_adamw_32bit',\n",
    "        lr_scheduler_type=\"cosine\",\n",
    "        num_train_epochs=5,\n",
    "        weight_decay=0.01,\n",
    "        evaluation_strategy=\"steps\",\n",
    "        save_strategy=\"steps\",\n",
    "        load_best_model_at_end=True,\n",
    "        push_to_hub=False,\n",
    "        warmup_steps=100,\n",
    "        eval_steps=50,\n",
    "        save_steps = 50,\n",
    "        logging_steps=50,\n",
    "        report_to='none' # if DEBUG else 'wandb',\n",
    "    )\n",
    "    \n",
    "    trainer = Trainer(\n",
    "        model=model,\n",
    "        args=training_args,\n",
    "        train_dataset=train_tokenized_ds,\n",
    "        eval_dataset=valid_tokenized_ds,\n",
    "        tokenizer=tokenizer,\n",
    "        data_collator=data_collator,\n",
    "        compute_metrics=compute_metrics,\n",
    "    )\n",
    "    \n",
    "    trainer.train()\n",
    "\n",
    "    trainer.save_model(output_dir=str(model_fold_dir))\n",
    "    \n",
    "    for path in Path(training_args.output_dir).glob(\"checkpoint-*\"):\n",
    "        if path.is_dir():\n",
    "            rmtree(path)\n",
    "            \n",
    "    del trainer, model, base_model\n",
    "\n",
    "    for i in range(5):\n",
    "        torch.cuda.empty_cache()\n",
    "        gc.collect()"
   ]
  },
  {
   "cell_type": "code",
   "execution_count": 13,
   "id": "233f21ec",
   "metadata": {},
   "outputs": [
    {
     "data": {
      "application/vnd.jupyter.widget-view+json": {
       "model_id": "95f0efd2c6e5439f8c1fee00cdc7a19c",
       "version_major": 2,
       "version_minor": 0
      },
      "text/plain": [
       "Downloading (…)okenizer_config.json:   0%|          | 0.00/1.47k [00:00<?, ?B/s]"
      ]
     },
     "metadata": {},
     "output_type": "display_data"
    },
    {
     "data": {
      "application/vnd.jupyter.widget-view+json": {
       "model_id": "0a047c8639f34fb5988225859198a79f",
       "version_major": 2,
       "version_minor": 0
      },
      "text/plain": [
       "Downloading tokenizer.model:   0%|          | 0.00/493k [00:00<?, ?B/s]"
      ]
     },
     "metadata": {},
     "output_type": "display_data"
    },
    {
     "data": {
      "application/vnd.jupyter.widget-view+json": {
       "model_id": "52d7fdfd6a694c51b4e05729a4b07271",
       "version_major": 2,
       "version_minor": 0
      },
      "text/plain": [
       "Downloading (…)cial_tokens_map.json:   0%|          | 0.00/72.0 [00:00<?, ?B/s]"
      ]
     },
     "metadata": {},
     "output_type": "display_data"
    },
    {
     "data": {
      "application/vnd.jupyter.widget-view+json": {
       "model_id": "56650d04e8e6492fa8d5e5b5853a2aff",
       "version_major": 2,
       "version_minor": 0
      },
      "text/plain": [
       "Downloading (…)/main/tokenizer.json:   0%|          | 0.00/1.80M [00:00<?, ?B/s]"
      ]
     },
     "metadata": {},
     "output_type": "display_data"
    },
    {
     "data": {
      "application/vnd.jupyter.widget-view+json": {
       "model_id": "92e25625ae524458a9a1fbc12175d9a6",
       "version_major": 2,
       "version_minor": 0
      },
      "text/plain": [
       "Downloading shards:   0%|          | 0/2 [00:00<?, ?it/s]"
      ]
     },
     "metadata": {},
     "output_type": "display_data"
    },
    {
     "data": {
      "application/vnd.jupyter.widget-view+json": {
       "model_id": "c5a5aa8e66194285af1a681abe423b57",
       "version_major": 2,
       "version_minor": 0
      },
      "text/plain": [
       "Loading checkpoint shards:   0%|          | 0/2 [00:00<?, ?it/s]"
      ]
     },
     "metadata": {},
     "output_type": "display_data"
    },
    {
     "name": "stderr",
     "output_type": "stream",
     "text": [
      "Some weights of MistralForSequenceClassification were not initialized from the model checkpoint at mistralai/Mistral-7B-Instruct-v0.1 and are newly initialized: ['score.weight']\n",
      "You should probably TRAIN this model on a down-stream task to be able to use it for predictions and inference.\n"
     ]
    },
    {
     "name": "stdout",
     "output_type": "stream",
     "text": [
      "trainable params: 6,873,088 || all params: 7,117,533,184 || trainable%: 0.09656559122829936\n",
      "train shape: (3178, 5) valid shape: (798, 5)\n"
     ]
    },
    {
     "data": {
      "application/vnd.jupyter.widget-view+json": {
       "model_id": "b41eed1e477c438c9739b67fae07f7f5",
       "version_major": 2,
       "version_minor": 0
      },
      "text/plain": [
       "Map:   0%|          | 0/3178 [00:00<?, ? examples/s]"
      ]
     },
     "metadata": {},
     "output_type": "display_data"
    },
    {
     "data": {
      "application/vnd.jupyter.widget-view+json": {
       "model_id": "20dc39834c0a4cfdb3f617845cccacb3",
       "version_major": 2,
       "version_minor": 0
      },
      "text/plain": [
       "Map:   0%|          | 0/798 [00:00<?, ? examples/s]"
      ]
     },
     "metadata": {},
     "output_type": "display_data"
    },
    {
     "data": {
      "text/html": [
       "\n",
       "    <div>\n",
       "      \n",
       "      <progress value='495' max='495' style='width:300px; height:20px; vertical-align: middle;'></progress>\n",
       "      [495/495 2:13:27, Epoch 4/5]\n",
       "    </div>\n",
       "    <table border=\"1\" class=\"dataframe\">\n",
       "  <thead>\n",
       " <tr style=\"text-align: left;\">\n",
       "      <th>Step</th>\n",
       "      <th>Training Loss</th>\n",
       "      <th>Validation Loss</th>\n",
       "      <th>Logloss</th>\n",
       "    </tr>\n",
       "  </thead>\n",
       "  <tbody>\n",
       "    <tr>\n",
       "      <td>50</td>\n",
       "      <td>5.522900</td>\n",
       "      <td>1.916992</td>\n",
       "      <td>1.849874</td>\n",
       "    </tr>\n",
       "    <tr>\n",
       "      <td>100</td>\n",
       "      <td>1.509000</td>\n",
       "      <td>1.147461</td>\n",
       "      <td>1.146088</td>\n",
       "    </tr>\n",
       "    <tr>\n",
       "      <td>150</td>\n",
       "      <td>0.960700</td>\n",
       "      <td>1.045898</td>\n",
       "      <td>1.037506</td>\n",
       "    </tr>\n",
       "    <tr>\n",
       "      <td>200</td>\n",
       "      <td>0.962400</td>\n",
       "      <td>1.024414</td>\n",
       "      <td>1.025505</td>\n",
       "    </tr>\n",
       "    <tr>\n",
       "      <td>250</td>\n",
       "      <td>0.526700</td>\n",
       "      <td>0.999023</td>\n",
       "      <td>0.992660</td>\n",
       "    </tr>\n",
       "    <tr>\n",
       "      <td>300</td>\n",
       "      <td>0.491100</td>\n",
       "      <td>1.101562</td>\n",
       "      <td>1.074148</td>\n",
       "    </tr>\n",
       "    <tr>\n",
       "      <td>350</td>\n",
       "      <td>0.158200</td>\n",
       "      <td>1.369141</td>\n",
       "      <td>1.262734</td>\n",
       "    </tr>\n",
       "    <tr>\n",
       "      <td>400</td>\n",
       "      <td>0.125700</td>\n",
       "      <td>1.530273</td>\n",
       "      <td>1.358043</td>\n",
       "    </tr>\n",
       "    <tr>\n",
       "      <td>450</td>\n",
       "      <td>0.014800</td>\n",
       "      <td>2.164062</td>\n",
       "      <td>1.625505</td>\n",
       "    </tr>\n",
       "  </tbody>\n",
       "</table><p>"
      ],
      "text/plain": [
       "<IPython.core.display.HTML object>"
      ]
     },
     "metadata": {},
     "output_type": "display_data"
    },
    {
     "name": "stdout",
     "output_type": "stream",
     "text": [
      "[[9.4452e-03 2.9126e-01 2.1362e-01 ... 5.4207e-03 1.3535e-02 1.5649e-01]\n",
      " [3.3295e-02 4.1847e-03 1.2268e-01 ... 1.0996e-03 8.2910e-01 7.5150e-03]\n",
      " [4.3921e-01 4.0680e-02 2.0178e-01 ... 2.7783e-01 1.5808e-02 2.2064e-02]\n",
      " ...\n",
      " [8.0615e-01 2.6684e-03 2.9588e-04 ... 1.4305e-06 6.2561e-02 1.2805e-01]\n",
      " [1.6064e-01 1.1511e-01 6.0547e-01 ... 9.4666e-02 6.8893e-03 1.5312e-02]\n",
      " [8.7357e-03 4.9171e-03 6.3538e-02 ... 2.1000e-03 9.0137e-01 1.6388e-02]]\n",
      "[[3.630e-05 1.018e-02 2.537e-04 ... 5.442e-05 2.164e-05 1.062e-02]\n",
      " [2.399e-02 2.859e-01 1.635e-03 ... 3.304e-03 6.699e-01 5.890e-03]\n",
      " [1.285e-01 2.983e-03 1.022e-01 ... 7.563e-01 2.243e-03 7.652e-03]\n",
      " ...\n",
      " [2.532e-01 2.258e-02 1.840e-03 ... 3.010e-03 6.250e-01 9.308e-02]\n",
      " [7.373e-02 2.684e-03 9.747e-02 ... 8.237e-01 4.230e-04 1.788e-03]\n",
      " [9.280e-05 2.171e-03 1.249e-04 ... 2.902e-04 9.961e-01 1.166e-03]]\n",
      "[[4.719e-03 2.448e-02 1.529e-02 ... 6.622e-05 1.192e-07 3.583e-02]\n",
      " [6.706e-05 4.599e-04 2.754e-05 ... 5.388e-05 9.990e-01 4.690e-04]\n",
      " [6.011e-01 2.470e-04 1.405e-01 ... 2.539e-01 2.778e-04 3.759e-03]\n",
      " ...\n",
      " [2.682e-06 1.788e-07 1.192e-07 ... 0.000e+00 1.000e+00 9.537e-06]\n",
      " [1.703e-01 1.550e-04 2.261e-01 ... 6.025e-01 1.514e-05 8.917e-04]\n",
      " [0.000e+00 1.723e-05 5.960e-07 ... 5.960e-08 1.000e+00 2.050e-04]]\n",
      "[[3.470e-02 4.614e-02 1.155e-02 ... 4.411e-04 3.159e-03 4.128e-01]\n",
      " [2.829e-03 7.629e-03 5.703e-04 ... 1.873e-04 9.873e-01 2.348e-04]\n",
      " [5.918e-01 2.289e-03 2.113e-01 ... 1.880e-01 2.235e-03 3.714e-03]\n",
      " ...\n",
      " [7.095e-04 1.669e-05 4.768e-07 ... 5.960e-08 9.990e-01 3.505e-05]\n",
      " [3.789e-01 1.681e-03 2.646e-01 ... 3.491e-01 9.766e-04 4.192e-03]\n",
      " [0.000e+00 8.941e-07 0.000e+00 ... 0.000e+00 1.000e+00 2.062e-05]]\n",
      "[[5.960e-08 1.192e-06 0.000e+00 ... 0.000e+00 0.000e+00 1.997e-05]\n",
      " [0.000e+00 0.000e+00 0.000e+00 ... 0.000e+00 1.000e+00 0.000e+00]\n",
      " [7.603e-01 1.466e-05 1.680e-01 ... 7.111e-02 5.144e-05 5.347e-05]\n",
      " ...\n",
      " [2.235e-04 3.040e-06 0.000e+00 ... 5.960e-08 1.000e+00 1.192e-06]\n",
      " [5.103e-02 4.518e-05 8.716e-01 ... 7.751e-02 3.302e-05 4.846e-05]\n",
      " [5.960e-08 9.251e-04 1.192e-07 ... 0.000e+00 9.990e-01 4.679e-05]]\n"
     ]
    },
    {
     "name": "stderr",
     "output_type": "stream",
     "text": [
      "/home/rajneesh/miniconda3/envs/llm/lib/python3.11/site-packages/sklearn/metrics/_classification.py:2922: UserWarning: The y_pred values do not sum to one. Starting from 1.5 thiswill result in an error.\n",
      "  warnings.warn(\n"
     ]
    },
    {
     "name": "stdout",
     "output_type": "stream",
     "text": [
      "[[4.351e-06 4.941e-05 7.749e-07 ... 0.000e+00 0.000e+00 6.285e-04]\n",
      " [6.557e-07 2.980e-05 5.960e-08 ... 5.960e-08 1.000e+00 3.576e-07]\n",
      " [4.126e-02 2.384e-07 3.403e-01 ... 6.182e-01 5.960e-08 5.186e-06]\n",
      " ...\n",
      " [1.754e-04 7.808e-06 5.960e-08 ... 5.960e-08 1.000e+00 1.925e-05]\n",
      " [9.895e-03 2.980e-07 5.068e-01 ... 4.834e-01 1.192e-07 2.742e-06]\n",
      " [2.384e-07 1.195e-02 4.691e-05 ... 0.000e+00 9.863e-01 1.415e-03]]\n",
      "[[0.000e+00 0.000e+00 0.000e+00 ... 0.000e+00 0.000e+00 2.325e-06]\n",
      " [0.000e+00 0.000e+00 0.000e+00 ... 0.000e+00 1.000e+00 0.000e+00]\n",
      " [1.330e-03 5.960e-08 5.845e-01 ... 4.143e-01 0.000e+00 5.960e-08]\n",
      " ...\n",
      " [5.960e-08 0.000e+00 0.000e+00 ... 0.000e+00 1.000e+00 0.000e+00]\n",
      " [8.833e-05 5.960e-08 9.048e-01 ... 9.576e-02 0.000e+00 2.980e-07]\n",
      " [0.000e+00 5.960e-08 0.000e+00 ... 0.000e+00 1.000e+00 0.000e+00]]\n"
     ]
    },
    {
     "name": "stderr",
     "output_type": "stream",
     "text": [
      "/home/rajneesh/miniconda3/envs/llm/lib/python3.11/site-packages/sklearn/metrics/_classification.py:2922: UserWarning: The y_pred values do not sum to one. Starting from 1.5 thiswill result in an error.\n",
      "  warnings.warn(\n"
     ]
    },
    {
     "name": "stdout",
     "output_type": "stream",
     "text": [
      "[[0.0000e+00 0.0000e+00 0.0000e+00 ... 0.0000e+00 0.0000e+00 0.0000e+00]\n",
      " [0.0000e+00 0.0000e+00 0.0000e+00 ... 0.0000e+00 1.0000e+00 0.0000e+00]\n",
      " [7.7332e-02 0.0000e+00 4.8120e-01 ... 4.4141e-01 0.0000e+00 0.0000e+00]\n",
      " ...\n",
      " [1.1921e-07 0.0000e+00 0.0000e+00 ... 0.0000e+00 1.0000e+00 0.0000e+00]\n",
      " [3.9601e-04 0.0000e+00 8.9111e-01 ... 1.0815e-01 0.0000e+00 0.0000e+00]\n",
      " [0.0000e+00 5.9605e-08 0.0000e+00 ... 0.0000e+00 1.0000e+00 0.0000e+00]]\n"
     ]
    },
    {
     "name": "stderr",
     "output_type": "stream",
     "text": [
      "/home/rajneesh/miniconda3/envs/llm/lib/python3.11/site-packages/sklearn/metrics/_classification.py:2922: UserWarning: The y_pred values do not sum to one. Starting from 1.5 thiswill result in an error.\n",
      "  warnings.warn(\n"
     ]
    },
    {
     "name": "stdout",
     "output_type": "stream",
     "text": [
      "[[0.000e+00 0.000e+00 0.000e+00 ... 0.000e+00 0.000e+00 0.000e+00]\n",
      " [0.000e+00 0.000e+00 0.000e+00 ... 0.000e+00 1.000e+00 0.000e+00]\n",
      " [3.080e-03 0.000e+00 9.023e-01 ... 9.509e-02 0.000e+00 0.000e+00]\n",
      " ...\n",
      " [0.000e+00 0.000e+00 0.000e+00 ... 0.000e+00 1.000e+00 0.000e+00]\n",
      " [1.490e-06 0.000e+00 9.912e-01 ... 8.713e-03 0.000e+00 0.000e+00]\n",
      " [0.000e+00 0.000e+00 0.000e+00 ... 0.000e+00 1.000e+00 0.000e+00]]\n"
     ]
    },
    {
     "name": "stderr",
     "output_type": "stream",
     "text": [
      "/home/rajneesh/miniconda3/envs/llm/lib/python3.11/site-packages/sklearn/metrics/_classification.py:2922: UserWarning: The y_pred values do not sum to one. Starting from 1.5 thiswill result in an error.\n",
      "  warnings.warn(\n"
     ]
    },
    {
     "data": {
      "application/vnd.jupyter.widget-view+json": {
       "model_id": "2cd85ab2bbde4134910b7a93e9faef92",
       "version_major": 2,
       "version_minor": 0
      },
      "text/plain": [
       "Loading checkpoint shards:   0%|          | 0/2 [00:00<?, ?it/s]"
      ]
     },
     "metadata": {},
     "output_type": "display_data"
    },
    {
     "name": "stderr",
     "output_type": "stream",
     "text": [
      "Some weights of MistralForSequenceClassification were not initialized from the model checkpoint at mistralai/Mistral-7B-Instruct-v0.1 and are newly initialized: ['score.weight']\n",
      "You should probably TRAIN this model on a down-stream task to be able to use it for predictions and inference.\n"
     ]
    },
    {
     "name": "stdout",
     "output_type": "stream",
     "text": [
      "trainable params: 6,873,088 || all params: 7,117,533,184 || trainable%: 0.09656559122829936\n",
      "train shape: (3178, 5) valid shape: (798, 5)\n"
     ]
    },
    {
     "data": {
      "application/vnd.jupyter.widget-view+json": {
       "model_id": "6a02bfe3214745eea5948994cda6bb95",
       "version_major": 2,
       "version_minor": 0
      },
      "text/plain": [
       "Map:   0%|          | 0/3178 [00:00<?, ? examples/s]"
      ]
     },
     "metadata": {},
     "output_type": "display_data"
    },
    {
     "data": {
      "application/vnd.jupyter.widget-view+json": {
       "model_id": "df907cd83bb8486cb7ccd1fe0c0ccf77",
       "version_major": 2,
       "version_minor": 0
      },
      "text/plain": [
       "Map:   0%|          | 0/798 [00:00<?, ? examples/s]"
      ]
     },
     "metadata": {},
     "output_type": "display_data"
    },
    {
     "data": {
      "text/html": [
       "\n",
       "    <div>\n",
       "      \n",
       "      <progress value='495' max='495' style='width:300px; height:20px; vertical-align: middle;'></progress>\n",
       "      [495/495 2:13:28, Epoch 4/5]\n",
       "    </div>\n",
       "    <table border=\"1\" class=\"dataframe\">\n",
       "  <thead>\n",
       " <tr style=\"text-align: left;\">\n",
       "      <th>Step</th>\n",
       "      <th>Training Loss</th>\n",
       "      <th>Validation Loss</th>\n",
       "      <th>Logloss</th>\n",
       "    </tr>\n",
       "  </thead>\n",
       "  <tbody>\n",
       "    <tr>\n",
       "      <td>50</td>\n",
       "      <td>5.162000</td>\n",
       "      <td>1.914062</td>\n",
       "      <td>1.808452</td>\n",
       "    </tr>\n",
       "    <tr>\n",
       "      <td>100</td>\n",
       "      <td>1.500300</td>\n",
       "      <td>1.230469</td>\n",
       "      <td>1.225307</td>\n",
       "    </tr>\n",
       "    <tr>\n",
       "      <td>150</td>\n",
       "      <td>1.039800</td>\n",
       "      <td>1.182617</td>\n",
       "      <td>1.183256</td>\n",
       "    </tr>\n",
       "    <tr>\n",
       "      <td>200</td>\n",
       "      <td>0.968200</td>\n",
       "      <td>0.895020</td>\n",
       "      <td>0.896527</td>\n",
       "    </tr>\n",
       "    <tr>\n",
       "      <td>250</td>\n",
       "      <td>0.578400</td>\n",
       "      <td>0.951660</td>\n",
       "      <td>0.953653</td>\n",
       "    </tr>\n",
       "    <tr>\n",
       "      <td>300</td>\n",
       "      <td>0.581000</td>\n",
       "      <td>0.956055</td>\n",
       "      <td>0.941454</td>\n",
       "    </tr>\n",
       "    <tr>\n",
       "      <td>350</td>\n",
       "      <td>0.196400</td>\n",
       "      <td>1.228516</td>\n",
       "      <td>1.160930</td>\n",
       "    </tr>\n",
       "    <tr>\n",
       "      <td>400</td>\n",
       "      <td>0.137000</td>\n",
       "      <td>1.518555</td>\n",
       "      <td>1.322069</td>\n",
       "    </tr>\n",
       "    <tr>\n",
       "      <td>450</td>\n",
       "      <td>0.013400</td>\n",
       "      <td>2.052734</td>\n",
       "      <td>1.578867</td>\n",
       "    </tr>\n",
       "  </tbody>\n",
       "</table><p>"
      ],
      "text/plain": [
       "<IPython.core.display.HTML object>"
      ]
     },
     "metadata": {},
     "output_type": "display_data"
    },
    {
     "name": "stdout",
     "output_type": "stream",
     "text": [
      "[[1.3684e-01 1.1835e-03 7.3059e-02 ... 6.8115e-01 1.0300e-02 9.3811e-02]\n",
      " [1.7258e-02 4.1962e-03 6.8542e-02 ... 7.0020e-01 2.4281e-03 3.5492e-02]\n",
      " [1.0864e-02 1.4087e-01 5.3772e-02 ... 9.8938e-02 2.5220e-01 7.3059e-02]\n",
      " ...\n",
      " [1.3504e-03 6.3658e-05 1.8716e-04 ... 3.5214e-04 9.9414e-01 3.9124e-04]\n",
      " [2.2839e-01 2.4887e-02 1.4514e-01 ... 4.0527e-02 3.3813e-01 2.2180e-01]\n",
      " [7.2876e-02 1.1768e-01 2.2864e-01 ... 7.8796e-02 7.8613e-02 1.5027e-01]]\n",
      "[[9.8511e-02 1.2726e-02 4.4312e-02 ... 8.9722e-02 5.3062e-03 7.4268e-01]\n",
      " [6.9458e-02 1.9324e-01 1.5955e-01 ... 1.2079e-01 2.3056e-02 5.1544e-02]\n",
      " [3.5038e-03 8.7354e-01 1.5762e-02 ... 3.7003e-03 2.7809e-03 2.5482e-02]\n",
      " ...\n",
      " [1.6809e-05 1.1963e-04 1.0073e-05 ... 2.2054e-06 1.0000e+00 6.3002e-05]\n",
      " [2.4817e-01 1.5039e-01 1.0669e-01 ... 1.4343e-01 7.4341e-02 2.6099e-01]\n",
      " [4.8518e-04 9.2334e-01 6.7291e-03 ... 1.0815e-03 2.0957e-04 2.2751e-02]]\n",
      "[[2.3877e-01 1.1147e-02 3.1567e-01 ... 1.7773e-01 2.8858e-03 2.5122e-01]\n",
      " [1.3824e-02 2.4280e-01 4.5068e-01 ... 3.0014e-02 1.0002e-02 1.0620e-02]\n",
      " [3.8185e-03 3.5107e-01 5.9619e-01 ... 2.7294e-03 2.8496e-03 2.4261e-03]\n",
      " ...\n",
      " [0.0000e+00 0.0000e+00 5.9605e-08 ... 0.0000e+00 1.0000e+00 5.9605e-08]\n",
      " [4.4946e-01 1.7871e-01 7.4524e-02 ... 1.2671e-01 5.3680e-02 1.1469e-01]\n",
      " [2.6875e-03 5.4102e-01 4.3140e-01 ... 2.5349e-03 3.0613e-04 5.8250e-03]]\n",
      "[[4.6387e-01 2.0409e-03 1.3953e-01 ... 2.6221e-01 1.9102e-03 1.2830e-01]\n",
      " [6.6614e-04 1.7405e-03 3.0441e-03 ... 1.5879e-04 2.1875e-04 1.4234e-04]\n",
      " [5.2155e-02 1.0455e-01 5.9229e-01 ... 7.1106e-03 1.3790e-03 8.5831e-03]\n",
      " ...\n",
      " [4.1723e-07 0.0000e+00 1.1921e-07 ... 5.9605e-08 1.0000e+00 1.1921e-07]\n",
      " [9.0479e-01 1.0010e-02 1.8265e-02 ... 5.3467e-02 4.9934e-03 7.0152e-03]\n",
      " [1.5976e-02 2.9028e-01 4.3030e-02 ... 2.1152e-03 1.7846e-04 2.5970e-02]]\n",
      "[[9.8633e-01 1.1802e-04 1.5726e-03 ... 5.1193e-03 2.5094e-05 6.5689e-03]\n",
      " [6.3419e-05 1.3876e-03 4.8828e-03 ... 1.9493e-03 1.2064e-03 1.6701e-04]\n",
      " [2.8488e-02 4.0112e-01 4.5361e-01 ... 1.2276e-02 4.0253e-02 9.1934e-03]\n",
      " ...\n",
      " [0.0000e+00 0.0000e+00 0.0000e+00 ... 0.0000e+00 1.0000e+00 0.0000e+00]\n",
      " [9.2236e-01 5.6934e-04 3.5992e-03 ... 6.8542e-02 8.3780e-04 3.6850e-03]\n",
      " [3.6346e-02 6.1963e-01 1.7822e-01 ... 2.7618e-02 8.8263e-04 1.8417e-02]]\n",
      "[[7.3291e-01 1.1081e-04 8.9050e-02 ... 5.2155e-02 1.0091e-04 1.2537e-01]\n",
      " [5.1260e-06 2.1076e-03 8.8692e-05 ... 9.6560e-06 1.3709e-05 9.4175e-06]\n",
      " [5.7640e-03 6.0449e-01 3.4766e-01 ... 4.8661e-04 5.2490e-03 2.9572e-02]\n",
      " ...\n",
      " [0.0000e+00 0.0000e+00 0.0000e+00 ... 0.0000e+00 1.0000e+00 0.0000e+00]\n",
      " [9.4141e-01 1.5965e-03 3.8166e-03 ... 4.7791e-02 6.1798e-04 4.7684e-03]\n",
      " [1.6916e-04 9.7900e-01 4.4098e-03 ... 2.7835e-05 4.9472e-06 1.2276e-02]]\n",
      "[[8.9600e-01 0.0000e+00 3.4676e-03 ... 1.0052e-01 0.0000e+00 2.5129e-04]\n",
      " [1.1921e-07 3.9482e-04 6.3479e-05 ... 5.5552e-05 2.1636e-05 5.9605e-08]\n",
      " [1.0657e-01 8.4763e-03 8.8184e-01 ... 1.4286e-03 6.5136e-04 3.2115e-04]\n",
      " ...\n",
      " [0.0000e+00 0.0000e+00 0.0000e+00 ... 0.0000e+00 1.0000e+00 0.0000e+00]\n",
      " [9.5605e-01 1.6749e-05 3.1769e-05 ... 4.3671e-02 3.5763e-07 1.1921e-06]\n",
      " [6.0034e-04 8.1592e-01 1.5759e-01 ... 4.7112e-04 1.1921e-06 2.7523e-03]]\n"
     ]
    },
    {
     "name": "stderr",
     "output_type": "stream",
     "text": [
      "/home/rajneesh/miniconda3/envs/llm/lib/python3.11/site-packages/sklearn/metrics/_classification.py:2922: UserWarning: The y_pred values do not sum to one. Starting from 1.5 thiswill result in an error.\n",
      "  warnings.warn(\n"
     ]
    },
    {
     "name": "stdout",
     "output_type": "stream",
     "text": [
      "[[9.961e-01 0.000e+00 2.113e-03 ... 2.016e-03 0.000e+00 1.079e-05]\n",
      " [0.000e+00 1.013e-06 0.000e+00 ... 0.000e+00 3.850e-05 0.000e+00]\n",
      " [1.297e-03 2.560e-03 9.854e-01 ... 1.597e-05 9.888e-03 8.696e-05]\n",
      " ...\n",
      " [0.000e+00 0.000e+00 0.000e+00 ... 0.000e+00 1.000e+00 0.000e+00]\n",
      " [9.873e-01 8.941e-07 6.676e-06 ... 1.243e-02 2.384e-07 7.749e-07]\n",
      " [7.927e-06 9.595e-01 2.071e-02 ... 5.364e-06 2.861e-06 1.361e-03]]\n"
     ]
    },
    {
     "name": "stderr",
     "output_type": "stream",
     "text": [
      "/home/rajneesh/miniconda3/envs/llm/lib/python3.11/site-packages/sklearn/metrics/_classification.py:2922: UserWarning: The y_pred values do not sum to one. Starting from 1.5 thiswill result in an error.\n",
      "  warnings.warn(\n"
     ]
    },
    {
     "name": "stdout",
     "output_type": "stream",
     "text": [
      "[[1.000e+00 0.000e+00 2.980e-07 ... 1.431e-06 0.000e+00 0.000e+00]\n",
      " [0.000e+00 0.000e+00 0.000e+00 ... 0.000e+00 0.000e+00 0.000e+00]\n",
      " [2.592e-04 5.144e-05 1.000e+00 ... 5.960e-08 4.172e-06 1.550e-06]\n",
      " ...\n",
      " [0.000e+00 0.000e+00 0.000e+00 ... 0.000e+00 1.000e+00 0.000e+00]\n",
      " [9.990e-01 0.000e+00 5.960e-08 ... 1.017e-03 0.000e+00 0.000e+00]\n",
      " [3.576e-07 9.922e-01 5.884e-04 ... 5.960e-08 0.000e+00 4.232e-05]]\n"
     ]
    },
    {
     "name": "stderr",
     "output_type": "stream",
     "text": [
      "/home/rajneesh/miniconda3/envs/llm/lib/python3.11/site-packages/sklearn/metrics/_classification.py:2922: UserWarning: The y_pred values do not sum to one. Starting from 1.5 thiswill result in an error.\n",
      "  warnings.warn(\n"
     ]
    },
    {
     "data": {
      "application/vnd.jupyter.widget-view+json": {
       "model_id": "94f809f5b759433eabf13251463dd14b",
       "version_major": 2,
       "version_minor": 0
      },
      "text/plain": [
       "Loading checkpoint shards:   0%|          | 0/2 [00:00<?, ?it/s]"
      ]
     },
     "metadata": {},
     "output_type": "display_data"
    },
    {
     "name": "stderr",
     "output_type": "stream",
     "text": [
      "Some weights of MistralForSequenceClassification were not initialized from the model checkpoint at mistralai/Mistral-7B-Instruct-v0.1 and are newly initialized: ['score.weight']\n",
      "You should probably TRAIN this model on a down-stream task to be able to use it for predictions and inference.\n"
     ]
    },
    {
     "name": "stdout",
     "output_type": "stream",
     "text": [
      "trainable params: 6,873,088 || all params: 7,117,533,184 || trainable%: 0.09656559122829936\n",
      "train shape: (3178, 5) valid shape: (798, 5)\n"
     ]
    },
    {
     "data": {
      "application/vnd.jupyter.widget-view+json": {
       "model_id": "5ab6667300694835b8b412f0a1d024ca",
       "version_major": 2,
       "version_minor": 0
      },
      "text/plain": [
       "Map:   0%|          | 0/3178 [00:00<?, ? examples/s]"
      ]
     },
     "metadata": {},
     "output_type": "display_data"
    },
    {
     "data": {
      "application/vnd.jupyter.widget-view+json": {
       "model_id": "7bed1eb90ecc4d4bbeb400efe7f6e2bc",
       "version_major": 2,
       "version_minor": 0
      },
      "text/plain": [
       "Map:   0%|          | 0/798 [00:00<?, ? examples/s]"
      ]
     },
     "metadata": {},
     "output_type": "display_data"
    },
    {
     "data": {
      "text/html": [
       "\n",
       "    <div>\n",
       "      \n",
       "      <progress value='495' max='495' style='width:300px; height:20px; vertical-align: middle;'></progress>\n",
       "      [495/495 2:13:51, Epoch 4/5]\n",
       "    </div>\n",
       "    <table border=\"1\" class=\"dataframe\">\n",
       "  <thead>\n",
       " <tr style=\"text-align: left;\">\n",
       "      <th>Step</th>\n",
       "      <th>Training Loss</th>\n",
       "      <th>Validation Loss</th>\n",
       "      <th>Logloss</th>\n",
       "    </tr>\n",
       "  </thead>\n",
       "  <tbody>\n",
       "    <tr>\n",
       "      <td>50</td>\n",
       "      <td>5.168400</td>\n",
       "      <td>1.970703</td>\n",
       "      <td>1.877719</td>\n",
       "    </tr>\n",
       "    <tr>\n",
       "      <td>100</td>\n",
       "      <td>1.604700</td>\n",
       "      <td>1.194336</td>\n",
       "      <td>1.195062</td>\n",
       "    </tr>\n",
       "    <tr>\n",
       "      <td>150</td>\n",
       "      <td>1.016200</td>\n",
       "      <td>1.102539</td>\n",
       "      <td>1.103100</td>\n",
       "    </tr>\n",
       "    <tr>\n",
       "      <td>200</td>\n",
       "      <td>0.943200</td>\n",
       "      <td>0.919434</td>\n",
       "      <td>0.920444</td>\n",
       "    </tr>\n",
       "    <tr>\n",
       "      <td>250</td>\n",
       "      <td>0.563300</td>\n",
       "      <td>1.105469</td>\n",
       "      <td>1.106163</td>\n",
       "    </tr>\n",
       "    <tr>\n",
       "      <td>300</td>\n",
       "      <td>0.555200</td>\n",
       "      <td>1.063477</td>\n",
       "      <td>1.050746</td>\n",
       "    </tr>\n",
       "    <tr>\n",
       "      <td>350</td>\n",
       "      <td>0.190400</td>\n",
       "      <td>1.343750</td>\n",
       "      <td>1.298372</td>\n",
       "    </tr>\n",
       "    <tr>\n",
       "      <td>400</td>\n",
       "      <td>0.142700</td>\n",
       "      <td>1.345703</td>\n",
       "      <td>1.264475</td>\n",
       "    </tr>\n",
       "    <tr>\n",
       "      <td>450</td>\n",
       "      <td>0.018400</td>\n",
       "      <td>1.988281</td>\n",
       "      <td>1.607474</td>\n",
       "    </tr>\n",
       "  </tbody>\n",
       "</table><p>"
      ],
      "text/plain": [
       "<IPython.core.display.HTML object>"
      ]
     },
     "metadata": {},
     "output_type": "display_data"
    },
    {
     "name": "stdout",
     "output_type": "stream",
     "text": [
      "[[2.957e-02 7.416e-03 6.419e-05 ... 1.402e-02 8.762e-06 9.492e-01]\n",
      " [6.677e-02 2.832e-02 3.670e-03 ... 4.498e-03 2.068e-02 5.428e-03]\n",
      " [7.898e-02 5.698e-02 3.622e-02 ... 1.408e-02 7.051e-01 7.288e-02]\n",
      " ...\n",
      " [8.490e-02 4.641e-01 6.171e-02 ... 2.328e-02 8.704e-02 7.080e-02]\n",
      " [2.720e-01 1.436e-01 7.362e-03 ... 7.626e-03 5.283e-01 1.223e-02]\n",
      " [5.684e-03 0.000e+00 6.855e-06 ... 9.941e-01 2.980e-07 3.862e-05]]\n",
      "[[0.1016   0.4114   0.01233  ... 0.02687  0.0132   0.4294  ]\n",
      " [0.02113  0.01974  0.01482  ... 0.004932 0.003391 0.2642  ]\n",
      " [0.00398  0.005352 0.00196  ... 0.001181 0.9844   0.00246 ]\n",
      " ...\n",
      " [0.1699   0.2025   0.2793   ... 0.1523   0.10706  0.07666 ]\n",
      " [0.2815   0.08563  0.04202  ... 0.02112  0.5396   0.02394 ]\n",
      " [0.3433   0.04993  0.01445  ... 0.3562   0.01628  0.2079  ]]\n",
      "[[1.3306e-02 8.3936e-01 2.7447e-03 ... 5.6992e-03 2.1973e-03 1.1884e-01]\n",
      " [6.5565e-06 9.3877e-05 1.0133e-06 ... 1.7881e-07 5.9605e-07 1.8477e-05]\n",
      " [4.9829e-05 6.0883e-03 3.1781e-04 ... 7.3075e-05 9.9219e-01 2.4533e-04]\n",
      " ...\n",
      " [1.5106e-02 7.3926e-01 2.5589e-02 ... 3.1300e-03 7.2212e-03 2.5696e-02]\n",
      " [6.4209e-01 1.3892e-01 7.2021e-02 ... 8.9478e-02 1.0178e-02 1.0460e-02]\n",
      " [7.3120e-02 5.1660e-01 1.3161e-02 ... 1.8835e-01 2.1610e-03 1.3391e-01]]\n",
      "[[3.8414e-03 2.5488e-01 1.3752e-03 ... 3.1967e-03 1.8291e-03 7.3193e-01]\n",
      " [2.1305e-03 3.1677e-02 4.6196e-03 ... 1.1635e-03 6.4230e-04 6.2286e-02]\n",
      " [9.1493e-05 6.1188e-03 9.3460e-04 ... 2.9063e-04 9.8926e-01 8.7070e-04]\n",
      " ...\n",
      " [5.4283e-03 7.8125e-01 5.7587e-02 ... 3.8643e-03 8.7433e-03 6.5369e-02]\n",
      " [9.0869e-01 2.3834e-02 2.6016e-02 ... 3.1586e-02 2.7180e-03 5.4436e-03]\n",
      " [2.8809e-02 3.3105e-01 2.5970e-02 ... 5.1367e-01 6.2637e-03 7.7698e-02]]\n",
      "[[9.7084e-04 5.0293e-01 2.6321e-04 ... 1.6224e-04 2.5272e-05 4.8950e-01]\n",
      " [2.6298e-04 1.4532e-04 3.2365e-05 ... 3.0994e-06 1.0431e-05 2.9111e-04]\n",
      " [3.5763e-06 1.8930e-03 5.8174e-04 ... 3.6955e-06 9.9609e-01 2.7835e-05]\n",
      " ...\n",
      " [3.2318e-02 2.5171e-01 6.7480e-01 ... 1.3027e-03 3.2568e-04 1.9226e-02]\n",
      " [7.0850e-01 5.7564e-03 2.6855e-01 ... 1.3443e-02 5.6124e-04 8.5640e-04]\n",
      " [1.1127e-01 2.4353e-01 7.7148e-02 ... 3.6987e-01 9.0599e-04 5.3589e-02]]\n",
      "[[5.9605e-06 6.4125e-03 1.7881e-07 ... 7.7486e-07 2.9802e-07 9.9316e-01]\n",
      " [5.3644e-07 1.9073e-06 0.0000e+00 ... 5.9605e-08 6.5565e-07 4.9248e-03]\n",
      " [0.0000e+00 1.1325e-06 5.9605e-08 ... 0.0000e+00 1.0000e+00 0.0000e+00]\n",
      " ...\n",
      " [5.7936e-04 4.4336e-01 1.1377e-03 ... 4.3631e-05 1.3361e-03 2.5269e-01]\n",
      " [9.1504e-01 4.4937e-03 3.0106e-02 ... 4.6478e-02 1.2722e-03 1.7195e-03]\n",
      " [5.1765e-03 4.6582e-01 1.4715e-03 ... 2.3206e-01 7.2813e-04 1.5857e-01]]\n",
      "[[1.192e-07 4.036e-01 0.000e+00 ... 4.768e-07 0.000e+00 5.962e-01]\n",
      " [0.000e+00 4.649e-06 0.000e+00 ... 0.000e+00 5.960e-08 2.956e-05]\n",
      " [0.000e+00 5.394e-05 2.384e-07 ... 1.788e-07 1.000e+00 0.000e+00]\n",
      " ...\n",
      " [1.729e-06 9.990e-01 2.587e-05 ... 0.000e+00 3.576e-07 4.905e-05]\n",
      " [9.873e-01 3.934e-04 9.661e-04 ... 1.123e-02 1.347e-05 1.502e-05]\n",
      " [5.927e-04 4.700e-01 7.051e-05 ... 5.161e-01 4.649e-06 4.246e-03]]\n",
      "[[0.000e+00 9.265e-02 0.000e+00 ... 0.000e+00 0.000e+00 9.072e-01]\n",
      " [0.000e+00 0.000e+00 0.000e+00 ... 0.000e+00 0.000e+00 7.033e-06]\n",
      " [0.000e+00 8.345e-07 0.000e+00 ... 0.000e+00 1.000e+00 0.000e+00]\n",
      " ...\n",
      " [0.000e+00 9.961e-01 5.209e-05 ... 0.000e+00 1.192e-07 2.205e-05]\n",
      " [9.980e-01 3.946e-04 1.003e-03 ... 8.321e-04 1.342e-04 7.749e-06]\n",
      " [4.339e-04 6.816e-01 3.022e-05 ... 2.876e-01 1.192e-06 2.063e-02]]\n"
     ]
    },
    {
     "name": "stderr",
     "output_type": "stream",
     "text": [
      "/home/rajneesh/miniconda3/envs/llm/lib/python3.11/site-packages/sklearn/metrics/_classification.py:2922: UserWarning: The y_pred values do not sum to one. Starting from 1.5 thiswill result in an error.\n",
      "  warnings.warn(\n"
     ]
    },
    {
     "name": "stdout",
     "output_type": "stream",
     "text": [
      "[[0.000e+00 4.009e-03 0.000e+00 ... 0.000e+00 0.000e+00 9.961e-01]\n",
      " [0.000e+00 0.000e+00 0.000e+00 ... 0.000e+00 0.000e+00 0.000e+00]\n",
      " [0.000e+00 0.000e+00 0.000e+00 ... 0.000e+00 1.000e+00 0.000e+00]\n",
      " ...\n",
      " [0.000e+00 1.000e+00 2.623e-06 ... 0.000e+00 0.000e+00 1.252e-06]\n",
      " [1.000e+00 3.576e-07 5.269e-05 ... 1.911e-04 1.079e-05 0.000e+00]\n",
      " [2.927e-05 1.311e-01 7.749e-07 ... 8.613e-01 0.000e+00 4.364e-03]]\n"
     ]
    },
    {
     "data": {
      "application/vnd.jupyter.widget-view+json": {
       "model_id": "35337e63e56f4709915c04a13dfcd7fd",
       "version_major": 2,
       "version_minor": 0
      },
      "text/plain": [
       "Loading checkpoint shards:   0%|          | 0/2 [00:00<?, ?it/s]"
      ]
     },
     "metadata": {},
     "output_type": "display_data"
    },
    {
     "name": "stderr",
     "output_type": "stream",
     "text": [
      "Some weights of MistralForSequenceClassification were not initialized from the model checkpoint at mistralai/Mistral-7B-Instruct-v0.1 and are newly initialized: ['score.weight']\n",
      "You should probably TRAIN this model on a down-stream task to be able to use it for predictions and inference.\n"
     ]
    },
    {
     "name": "stdout",
     "output_type": "stream",
     "text": [
      "trainable params: 6,873,088 || all params: 7,117,533,184 || trainable%: 0.09656559122829936\n",
      "train shape: (3185, 5) valid shape: (791, 5)\n"
     ]
    },
    {
     "data": {
      "application/vnd.jupyter.widget-view+json": {
       "model_id": "fd2c4a6a2ae04ae38b6f9877005501a8",
       "version_major": 2,
       "version_minor": 0
      },
      "text/plain": [
       "Map:   0%|          | 0/3185 [00:00<?, ? examples/s]"
      ]
     },
     "metadata": {},
     "output_type": "display_data"
    },
    {
     "data": {
      "application/vnd.jupyter.widget-view+json": {
       "model_id": "ac73b13f37ea412eb91f129b7f4042a8",
       "version_major": 2,
       "version_minor": 0
      },
      "text/plain": [
       "Map:   0%|          | 0/791 [00:00<?, ? examples/s]"
      ]
     },
     "metadata": {},
     "output_type": "display_data"
    },
    {
     "data": {
      "text/html": [
       "\n",
       "    <div>\n",
       "      \n",
       "      <progress value='495' max='495' style='width:300px; height:20px; vertical-align: middle;'></progress>\n",
       "      [495/495 2:12:37, Epoch 4/5]\n",
       "    </div>\n",
       "    <table border=\"1\" class=\"dataframe\">\n",
       "  <thead>\n",
       " <tr style=\"text-align: left;\">\n",
       "      <th>Step</th>\n",
       "      <th>Training Loss</th>\n",
       "      <th>Validation Loss</th>\n",
       "      <th>Logloss</th>\n",
       "    </tr>\n",
       "  </thead>\n",
       "  <tbody>\n",
       "    <tr>\n",
       "      <td>50</td>\n",
       "      <td>5.058500</td>\n",
       "      <td>1.906250</td>\n",
       "      <td>1.815300</td>\n",
       "    </tr>\n",
       "    <tr>\n",
       "      <td>100</td>\n",
       "      <td>1.518900</td>\n",
       "      <td>1.065430</td>\n",
       "      <td>1.065367</td>\n",
       "    </tr>\n",
       "    <tr>\n",
       "      <td>150</td>\n",
       "      <td>0.976300</td>\n",
       "      <td>1.251953</td>\n",
       "      <td>1.247175</td>\n",
       "    </tr>\n",
       "    <tr>\n",
       "      <td>200</td>\n",
       "      <td>1.001200</td>\n",
       "      <td>0.923340</td>\n",
       "      <td>0.922090</td>\n",
       "    </tr>\n",
       "    <tr>\n",
       "      <td>250</td>\n",
       "      <td>0.569400</td>\n",
       "      <td>1.059570</td>\n",
       "      <td>1.054330</td>\n",
       "    </tr>\n",
       "    <tr>\n",
       "      <td>300</td>\n",
       "      <td>0.551600</td>\n",
       "      <td>0.983887</td>\n",
       "      <td>0.970532</td>\n",
       "    </tr>\n",
       "    <tr>\n",
       "      <td>350</td>\n",
       "      <td>0.160400</td>\n",
       "      <td>1.626953</td>\n",
       "      <td>1.407686</td>\n",
       "    </tr>\n",
       "    <tr>\n",
       "      <td>400</td>\n",
       "      <td>0.180400</td>\n",
       "      <td>1.385742</td>\n",
       "      <td>1.256275</td>\n",
       "    </tr>\n",
       "    <tr>\n",
       "      <td>450</td>\n",
       "      <td>0.024800</td>\n",
       "      <td>1.946289</td>\n",
       "      <td>1.521751</td>\n",
       "    </tr>\n",
       "  </tbody>\n",
       "</table><p>"
      ],
      "text/plain": [
       "<IPython.core.display.HTML object>"
      ]
     },
     "metadata": {},
     "output_type": "display_data"
    },
    {
     "name": "stdout",
     "output_type": "stream",
     "text": [
      "[[2.5558e-02 5.6836e-01 4.1656e-02 ... 1.9073e-02 3.9307e-02 1.7603e-01]\n",
      " [1.3893e-02 1.0327e-01 4.2053e-02 ... 1.1726e-02 3.1934e-01 9.4788e-02]\n",
      " [9.2545e-03 2.1472e-01 1.1475e-02 ... 1.2045e-03 1.2207e-02 3.2684e-02]\n",
      " ...\n",
      " [8.4473e-01 8.1682e-04 5.8060e-03 ... 7.3853e-02 3.3600e-02 4.0680e-02]\n",
      " [8.8196e-02 1.7700e-01 8.8989e-02 ... 2.9248e-01 1.4847e-02 3.3667e-01]\n",
      " [3.1299e-01 3.0441e-03 3.4912e-02 ... 5.3467e-01 1.9350e-03 1.1292e-01]]\n",
      "[[3.035e-04 5.563e-02 3.077e-03 ... 1.587e-04 1.484e-05 6.989e-03]\n",
      " [1.192e-07 5.960e-07 5.960e-08 ... 0.000e+00 1.000e+00 1.788e-07]\n",
      " [5.484e-06 2.621e-03 7.403e-05 ... 8.345e-07 1.073e-06 9.966e-05]\n",
      " ...\n",
      " [1.729e-01 5.890e-02 5.240e-02 ... 1.259e-01 2.546e-01 2.969e-01]\n",
      " [4.707e-01 7.462e-03 1.274e-01 ... 2.417e-01 1.401e-03 1.501e-01]\n",
      " [2.695e-01 2.596e-02 8.868e-02 ... 3.237e-01 2.790e-03 2.593e-01]]\n",
      "[[2.9683e-04 2.7740e-02 2.5332e-05 ... 3.7551e-06 3.3319e-05 7.9468e-02]\n",
      " [7.7486e-07 3.4809e-05 2.5630e-06 ... 1.7881e-07 1.0000e+00 1.1384e-05]\n",
      " [7.7486e-07 2.9907e-03 6.5565e-07 ... 0.0000e+00 2.0266e-06 5.5504e-04]\n",
      " ...\n",
      " [3.3203e-02 1.6968e-01 1.3977e-02 ... 9.1858e-03 7.2754e-02 4.7095e-01]\n",
      " [3.9246e-02 2.1589e-04 1.5610e-02 ... 9.4385e-01 1.1557e-04 1.4410e-03]\n",
      " [1.5820e-01 2.1423e-01 1.5161e-01 ... 2.7368e-01 8.6594e-03 1.0254e-01]]\n",
      "[[2.828e-04 1.726e-01 1.043e-03 ... 1.770e-04 7.811e-04 4.768e-01]\n",
      " [0.000e+00 0.000e+00 0.000e+00 ... 0.000e+00 1.000e+00 0.000e+00]\n",
      " [2.384e-07 7.095e-04 2.086e-06 ... 0.000e+00 4.232e-06 5.388e-05]\n",
      " ...\n",
      " [3.970e-02 7.300e-02 1.402e-02 ... 9.357e-02 4.961e-01 2.498e-01]\n",
      " [6.000e-02 2.162e-04 1.794e-02 ... 9.092e-01 4.448e-03 7.599e-03]\n",
      " [1.814e-01 2.843e-02 1.951e-01 ... 5.200e-01 3.115e-03 4.443e-02]]\n",
      "[[2.4915e-04 1.5594e-02 2.2812e-03 ... 8.2791e-05 3.9399e-05 4.2877e-02]\n",
      " [0.0000e+00 0.0000e+00 0.0000e+00 ... 0.0000e+00 1.0000e+00 0.0000e+00]\n",
      " [0.0000e+00 2.5630e-06 0.0000e+00 ... 0.0000e+00 0.0000e+00 0.0000e+00]\n",
      " ...\n",
      " [7.5197e-04 7.3280e-03 2.0275e-03 ... 6.6223e-03 1.6144e-02 9.3408e-01]\n",
      " [3.7048e-02 1.9670e-06 2.3766e-03 ... 9.5898e-01 5.1212e-04 1.6918e-03]\n",
      " [7.8674e-02 2.6393e-04 1.1566e-01 ... 7.9932e-01 1.9014e-04 4.4136e-03]]\n",
      "[[3.7372e-05 1.0484e-04 3.5703e-05 ... 0.0000e+00 0.0000e+00 6.5117e-03]\n",
      " [0.0000e+00 0.0000e+00 0.0000e+00 ... 0.0000e+00 1.0000e+00 0.0000e+00]\n",
      " [0.0000e+00 2.9802e-07 0.0000e+00 ... 0.0000e+00 0.0000e+00 5.9605e-08]\n",
      " ...\n",
      " [5.4291e-02 4.8859e-02 4.6814e-02 ... 8.5999e-02 4.7534e-01 2.5562e-01]\n",
      " [1.6479e-01 5.8413e-06 2.0828e-03 ... 8.2715e-01 5.1918e-03 1.0805e-03]\n",
      " [1.1572e-01 1.6320e-04 2.3340e-01 ... 6.4941e-01 5.6076e-04 8.9931e-04]]\n",
      "[[0.000e+00 0.000e+00 0.000e+00 ... 0.000e+00 0.000e+00 9.239e-06]\n",
      " [0.000e+00 0.000e+00 0.000e+00 ... 0.000e+00 1.000e+00 0.000e+00]\n",
      " [0.000e+00 0.000e+00 0.000e+00 ... 0.000e+00 0.000e+00 0.000e+00]\n",
      " ...\n",
      " [2.199e-05 6.938e-05 7.749e-07 ... 7.696e-04 5.054e-03 9.941e-01]\n",
      " [3.302e-02 0.000e+00 1.872e-05 ... 9.653e-01 1.831e-04 1.429e-03]\n",
      " [2.744e-01 3.040e-06 1.659e-01 ... 5.586e-01 5.484e-06 1.104e-03]]\n",
      "[[0.000e+00 0.000e+00 0.000e+00 ... 0.000e+00 0.000e+00 9.173e-05]\n",
      " [0.000e+00 0.000e+00 0.000e+00 ... 0.000e+00 1.000e+00 0.000e+00]\n",
      " [0.000e+00 0.000e+00 0.000e+00 ... 0.000e+00 0.000e+00 0.000e+00]\n",
      " ...\n",
      " [1.278e-03 4.215e-04 3.169e-04 ... 1.642e-01 9.137e-02 7.417e-01]\n",
      " [6.851e-03 0.000e+00 2.265e-05 ... 9.932e-01 1.371e-06 1.913e-05]\n",
      " [2.455e-02 3.576e-07 9.595e-02 ... 8.789e-01 2.384e-07 1.802e-04]]\n",
      "[[0.000e+00 0.000e+00 0.000e+00 ... 0.000e+00 0.000e+00 2.921e-06]\n",
      " [0.000e+00 0.000e+00 0.000e+00 ... 0.000e+00 1.000e+00 0.000e+00]\n",
      " [0.000e+00 0.000e+00 0.000e+00 ... 0.000e+00 0.000e+00 0.000e+00]\n",
      " ...\n",
      " [1.687e-05 5.305e-06 1.669e-06 ... 1.653e-02 6.729e-01 3.105e-01]\n",
      " [1.315e-03 0.000e+00 1.192e-07 ... 9.990e-01 5.960e-08 1.252e-06]\n",
      " [1.802e-02 0.000e+00 4.358e-02 ... 9.385e-01 0.000e+00 2.265e-05]]\n"
     ]
    },
    {
     "name": "stderr",
     "output_type": "stream",
     "text": [
      "/home/rajneesh/miniconda3/envs/llm/lib/python3.11/site-packages/sklearn/metrics/_classification.py:2922: UserWarning: The y_pred values do not sum to one. Starting from 1.5 thiswill result in an error.\n",
      "  warnings.warn(\n"
     ]
    },
    {
     "data": {
      "application/vnd.jupyter.widget-view+json": {
       "model_id": "97e8017b12744bebb959b40abdc72755",
       "version_major": 2,
       "version_minor": 0
      },
      "text/plain": [
       "Loading checkpoint shards:   0%|          | 0/2 [00:00<?, ?it/s]"
      ]
     },
     "metadata": {},
     "output_type": "display_data"
    },
    {
     "name": "stderr",
     "output_type": "stream",
     "text": [
      "Some weights of MistralForSequenceClassification were not initialized from the model checkpoint at mistralai/Mistral-7B-Instruct-v0.1 and are newly initialized: ['score.weight']\n",
      "You should probably TRAIN this model on a down-stream task to be able to use it for predictions and inference.\n"
     ]
    },
    {
     "name": "stdout",
     "output_type": "stream",
     "text": [
      "trainable params: 6,873,088 || all params: 7,117,533,184 || trainable%: 0.09656559122829936\n",
      "train shape: (3185, 5) valid shape: (791, 5)\n"
     ]
    },
    {
     "data": {
      "application/vnd.jupyter.widget-view+json": {
       "model_id": "ade9c1bf9e6c46449631ec02931e6eba",
       "version_major": 2,
       "version_minor": 0
      },
      "text/plain": [
       "Map:   0%|          | 0/3185 [00:00<?, ? examples/s]"
      ]
     },
     "metadata": {},
     "output_type": "display_data"
    },
    {
     "data": {
      "application/vnd.jupyter.widget-view+json": {
       "model_id": "824165486d4148c9ac87980b6d234ac2",
       "version_major": 2,
       "version_minor": 0
      },
      "text/plain": [
       "Map:   0%|          | 0/791 [00:00<?, ? examples/s]"
      ]
     },
     "metadata": {},
     "output_type": "display_data"
    },
    {
     "data": {
      "text/html": [
       "\n",
       "    <div>\n",
       "      \n",
       "      <progress value='495' max='495' style='width:300px; height:20px; vertical-align: middle;'></progress>\n",
       "      [495/495 2:16:13, Epoch 4/5]\n",
       "    </div>\n",
       "    <table border=\"1\" class=\"dataframe\">\n",
       "  <thead>\n",
       " <tr style=\"text-align: left;\">\n",
       "      <th>Step</th>\n",
       "      <th>Training Loss</th>\n",
       "      <th>Validation Loss</th>\n",
       "      <th>Logloss</th>\n",
       "    </tr>\n",
       "  </thead>\n",
       "  <tbody>\n",
       "    <tr>\n",
       "      <td>50</td>\n",
       "      <td>5.055400</td>\n",
       "      <td>2.103516</td>\n",
       "      <td>1.970110</td>\n",
       "    </tr>\n",
       "    <tr>\n",
       "      <td>100</td>\n",
       "      <td>1.515400</td>\n",
       "      <td>1.218750</td>\n",
       "      <td>1.214971</td>\n",
       "    </tr>\n",
       "    <tr>\n",
       "      <td>150</td>\n",
       "      <td>1.015400</td>\n",
       "      <td>1.085938</td>\n",
       "      <td>1.083193</td>\n",
       "    </tr>\n",
       "    <tr>\n",
       "      <td>200</td>\n",
       "      <td>0.921800</td>\n",
       "      <td>1.141602</td>\n",
       "      <td>1.125524</td>\n",
       "    </tr>\n",
       "    <tr>\n",
       "      <td>250</td>\n",
       "      <td>0.574300</td>\n",
       "      <td>1.016602</td>\n",
       "      <td>0.995805</td>\n",
       "    </tr>\n",
       "    <tr>\n",
       "      <td>300</td>\n",
       "      <td>0.555500</td>\n",
       "      <td>0.923340</td>\n",
       "      <td>0.924513</td>\n",
       "    </tr>\n",
       "    <tr>\n",
       "      <td>350</td>\n",
       "      <td>0.217900</td>\n",
       "      <td>1.425781</td>\n",
       "      <td>1.326373</td>\n",
       "    </tr>\n",
       "    <tr>\n",
       "      <td>400</td>\n",
       "      <td>0.158900</td>\n",
       "      <td>1.500000</td>\n",
       "      <td>1.321854</td>\n",
       "    </tr>\n",
       "    <tr>\n",
       "      <td>450</td>\n",
       "      <td>0.025400</td>\n",
       "      <td>2.128906</td>\n",
       "      <td>1.550182</td>\n",
       "    </tr>\n",
       "  </tbody>\n",
       "</table><p>"
      ],
      "text/plain": [
       "<IPython.core.display.HTML object>"
      ]
     },
     "metadata": {},
     "output_type": "display_data"
    },
    {
     "name": "stdout",
     "output_type": "stream",
     "text": [
      "[[0.05463  0.00801  0.2825   ... 0.6025   0.03513  0.0127  ]\n",
      " [0.01968  0.0009   0.02263  ... 0.477    0.03363  0.4363  ]\n",
      " [0.08716  0.00493  0.1628   ... 0.2496   0.1683   0.3193  ]\n",
      " ...\n",
      " [0.1538   0.01714  0.1248   ... 0.2786   0.04556  0.3704  ]\n",
      " [0.01119  0.563    0.0837   ... 0.0488   0.001907 0.2876  ]\n",
      " [0.1675   0.3242   0.04156  ... 0.02277  0.053    0.1808  ]]\n",
      "[[1.0736e-01 4.1089e-01 1.9226e-01 ... 2.3132e-01 1.5774e-03 1.8524e-02]\n",
      " [2.0630e-01 1.0565e-01 2.1082e-01 ... 1.7664e-01 2.8091e-02 1.9507e-01]\n",
      " [2.9053e-01 7.7698e-02 1.5186e-01 ... 1.2732e-01 1.5612e-03 2.1692e-01]\n",
      " ...\n",
      " [3.0542e-01 6.0852e-02 1.4673e-01 ... 1.9409e-01 1.1454e-03 2.1484e-01]\n",
      " [1.9653e-02 5.0879e-01 3.0777e-02 ... 5.5847e-03 1.3185e-04 4.2993e-01]\n",
      " [2.4399e-02 2.3779e-01 1.8387e-02 ... 1.3494e-03 7.8011e-03 3.0908e-01]]\n",
      "[[4.9011e-02 9.8953e-03 2.9224e-01 ... 6.3916e-01 2.5826e-03 2.4486e-04]\n",
      " [1.6125e-01 2.1011e-02 2.3047e-01 ... 3.9966e-01 1.3574e-01 2.9694e-02]\n",
      " [1.8408e-01 5.7129e-02 2.8735e-01 ... 2.4841e-01 1.8555e-02 2.3132e-02]\n",
      " ...\n",
      " [1.1853e-01 2.6016e-02 2.0215e-01 ... 5.9766e-01 1.3332e-03 1.0574e-02]\n",
      " [3.4752e-03 9.8291e-01 3.4084e-03 ... 1.9264e-03 9.7454e-05 7.4997e-03]\n",
      " [3.5522e-02 1.1731e-01 4.4098e-03 ... 7.0333e-04 2.3327e-03 6.2939e-01]]\n",
      "[[7.0496e-02 4.3030e-02 6.6895e-01 ... 2.1338e-01 9.3520e-05 7.4768e-04]\n",
      " [3.0884e-01 1.1101e-02 1.2598e-01 ... 4.2627e-01 6.1760e-03 1.1035e-01]\n",
      " [2.0898e-01 4.4952e-02 2.9346e-01 ... 1.1334e-01 7.7772e-04 2.0703e-01]\n",
      " ...\n",
      " [2.0312e-01 1.8417e-02 3.1030e-01 ... 3.6255e-01 1.7560e-04 8.0994e-02]\n",
      " [3.5143e-04 9.0283e-01 5.2357e-04 ... 3.7372e-05 3.5167e-06 7.3242e-02]\n",
      " [5.1320e-05 6.7377e-04 2.9445e-05 ... 3.0398e-06 3.2783e-06 9.5947e-01]]\n",
      "[[5.768e-02 7.164e-05 9.199e-01 ... 2.240e-02 2.384e-07 5.960e-07]\n",
      " [1.078e-01 1.867e-03 2.124e-01 ... 4.827e-01 9.015e-02 1.036e-01]\n",
      " [3.250e-01 2.682e-03 5.464e-01 ... 3.836e-02 5.827e-04 2.695e-02]\n",
      " ...\n",
      " [2.224e-01 3.331e-04 6.382e-01 ... 1.362e-01 2.831e-05 1.418e-03]\n",
      " [8.464e-06 9.990e-01 4.131e-05 ... 9.537e-07 1.192e-06 9.003e-04]\n",
      " [4.223e-03 3.657e-01 2.828e-04 ... 2.229e-05 2.231e-02 5.840e-01]]\n",
      "[[1.4783e-01 2.0351e-03 7.1045e-01 ... 1.3892e-01 2.7418e-06 1.8835e-05]\n",
      " [2.1155e-01 1.5808e-02 1.3696e-01 ... 5.3564e-01 1.1787e-02 8.4961e-02]\n",
      " [2.0264e-01 1.0124e-02 4.4946e-01 ... 2.9028e-01 2.1100e-04 2.4292e-02]\n",
      " ...\n",
      " [1.9299e-01 3.6591e-02 2.1521e-01 ... 4.4263e-01 3.2604e-05 1.1084e-01]\n",
      " [5.1439e-05 8.2910e-01 9.3877e-05 ... 2.0027e-05 3.3379e-06 1.7041e-01]\n",
      " [8.5831e-04 1.8997e-02 8.5950e-05 ... 2.8551e-05 1.4615e-04 9.4482e-01]]\n",
      "[[1.4341e-04 0.0000e+00 9.9414e-01 ... 5.8670e-03 0.0000e+00 0.0000e+00]\n",
      " [8.5632e-02 1.0014e-05 2.7863e-02 ... 8.8184e-01 1.0133e-05 4.2000e-03]\n",
      " [1.7960e-02 2.7418e-06 7.9736e-01 ... 1.8359e-01 0.0000e+00 6.6757e-04]\n",
      " ...\n",
      " [1.3623e-01 1.3053e-05 1.0864e-01 ... 7.5391e-01 0.0000e+00 8.3542e-04]\n",
      " [1.7881e-07 1.0000e+00 3.2783e-06 ... 0.0000e+00 0.0000e+00 3.0696e-05]\n",
      " [1.5938e-04 4.0555e-04 2.4438e-05 ... 2.3842e-07 1.1325e-06 9.3750e-01]]\n",
      "[[6.5346e-03 0.0000e+00 9.9316e-01 ... 2.2197e-04 0.0000e+00 0.0000e+00]\n",
      " [2.1741e-01 5.9605e-07 6.1310e-02 ... 7.2119e-01 2.3842e-07 7.3195e-05]\n",
      " [6.4575e-02 6.1393e-06 9.2773e-01 ... 6.3477e-03 0.0000e+00 7.5817e-04]\n",
      " ...\n",
      " [5.6787e-01 1.2016e-04 2.1643e-01 ... 7.4158e-02 0.0000e+00 1.4136e-01]\n",
      " [0.0000e+00 1.0000e+00 1.1921e-07 ... 0.0000e+00 0.0000e+00 5.9605e-08]\n",
      " [1.8537e-05 5.8460e-04 4.3511e-06 ... 0.0000e+00 0.0000e+00 9.8828e-01]]\n",
      "[[8.163e-04 0.000e+00 9.990e-01 ... 2.384e-06 0.000e+00 0.000e+00]\n",
      " [5.081e-02 0.000e+00 5.791e-03 ... 9.438e-01 0.000e+00 4.768e-07]\n",
      " [6.634e-03 0.000e+00 9.922e-01 ... 5.841e-04 0.000e+00 3.147e-05]\n",
      " ...\n",
      " [2.529e-01 1.132e-06 3.818e-02 ... 3.729e-02 0.000e+00 6.714e-01]\n",
      " [0.000e+00 1.000e+00 0.000e+00 ... 0.000e+00 0.000e+00 0.000e+00]\n",
      " [0.000e+00 3.576e-07 0.000e+00 ... 0.000e+00 0.000e+00 1.000e+00]]\n"
     ]
    }
   ],
   "source": [
    "for f in range(5):\n",
    "    run(f)"
   ]
  },
  {
   "cell_type": "code",
   "execution_count": 15,
   "id": "b98d0068-d589-49cf-943e-e1a7a1e5512a",
   "metadata": {},
   "outputs": [
    {
     "data": {
      "text/plain": [
       "0"
      ]
     },
     "execution_count": 15,
     "metadata": {},
     "output_type": "execute_result"
    }
   ],
   "source": [
    "gc.collect()"
   ]
  },
  {
   "cell_type": "code",
   "execution_count": 17,
   "id": "e0e01d7d",
   "metadata": {},
   "outputs": [],
   "source": [
    "torch.cuda.empty_cache()"
   ]
  },
  {
   "cell_type": "code",
   "execution_count": 23,
   "id": "25499629-2ce8-4f84-85ff-4802e87bd52e",
   "metadata": {},
   "outputs": [
    {
     "data": {
      "application/vnd.jupyter.widget-view+json": {
       "model_id": "1da9fe266f2244be9c5baa00f0083d22",
       "version_major": 2,
       "version_minor": 0
      },
      "text/plain": [
       "Map:   0%|          | 0/1001 [00:00<?, ? examples/s]"
      ]
     },
     "metadata": {},
     "output_type": "display_data"
    }
   ],
   "source": [
    "def preprocess_function(examples, max_length=CFG.max_len):\n",
    "    return tokenizer(examples[\"all_text\"], \n",
    "                     truncation=True, \n",
    "                     max_length=max_length, \n",
    "                     padding=True)\n",
    "tokenizer = AutoTokenizer.from_pretrained(CFG.TARGET_MODEL, use_fast=False)\n",
    "tokenizer.pad_token = tokenizer.eos_token\n",
    "\n",
    "test_ds = Dataset.from_pandas(test)\n",
    "test_tokenized_ds = test_ds.map(preprocess_function, batched=True)\n",
    "data_collator = DataCollatorWithPadding(tokenizer=tokenizer, padding=\"longest\")"
   ]
  },
  {
   "cell_type": "code",
   "execution_count": 48,
   "id": "29defacb-14e2-4b3d-992c-30b4d0c679aa",
   "metadata": {},
   "outputs": [],
   "source": [
    "bnb_config = BitsAndBytesConfig(\n",
    "    load_in_4bit=True,\n",
    "    bnb_4bit_quant_type=\"nf4\",\n",
    "    bnb_4bit_use_double_quant=True,\n",
    "    bnb_4bit_compute_dtype=torch.bfloat16\n",
    ")"
   ]
  },
  {
   "cell_type": "code",
   "execution_count": 49,
   "id": "35ba635d-1a00-47bd-847b-ea408f5e15e0",
   "metadata": {},
   "outputs": [
    {
     "data": {
      "application/vnd.jupyter.widget-view+json": {
       "model_id": "e0e493804ba049c792dbecfac7d2c00c",
       "version_major": 2,
       "version_minor": 0
      },
      "text/plain": [
       "Loading checkpoint shards:   0%|          | 0/2 [00:00<?, ?it/s]"
      ]
     },
     "metadata": {},
     "output_type": "display_data"
    },
    {
     "name": "stderr",
     "output_type": "stream",
     "text": [
      "Some weights of MistralForSequenceClassification were not initialized from the model checkpoint at mistralai/Mistral-7B-Instruct-v0.1 and are newly initialized: ['score.weight']\n",
      "You should probably TRAIN this model on a down-stream task to be able to use it for predictions and inference.\n"
     ]
    }
   ],
   "source": [
    "base_model = MistralForSequenceClassification.from_pretrained(\n",
    "    CFG.TARGET_MODEL,\n",
    "    num_labels=7,\n",
    "    cache_dir='///mnt/c/Personal/Competitions/HFCache/',\n",
    "    quantization_config=bnb_config,\n",
    "    device_map={\"\":0})\n",
    "\n",
    "base_model.config.pad_token_id = tokenizer.pad_token_id"
   ]
  },
  {
   "cell_type": "code",
   "execution_count": 51,
   "id": "aa77916d",
   "metadata": {},
   "outputs": [
    {
     "name": "stdout",
     "output_type": "stream",
     "text": [
      "----------- Fold: 0 ----------\n"
     ]
    },
    {
     "data": {
      "text/html": [],
      "text/plain": [
       "<IPython.core.display.HTML object>"
      ]
     },
     "metadata": {},
     "output_type": "display_data"
    },
    {
     "name": "stdout",
     "output_type": "stream",
     "text": [
      "----------- Fold: 1 ----------\n"
     ]
    },
    {
     "data": {
      "text/html": [],
      "text/plain": [
       "<IPython.core.display.HTML object>"
      ]
     },
     "metadata": {},
     "output_type": "display_data"
    },
    {
     "name": "stdout",
     "output_type": "stream",
     "text": [
      "----------- Fold: 2 ----------\n"
     ]
    },
    {
     "data": {
      "text/html": [],
      "text/plain": [
       "<IPython.core.display.HTML object>"
      ]
     },
     "metadata": {},
     "output_type": "display_data"
    },
    {
     "name": "stdout",
     "output_type": "stream",
     "text": [
      "----------- Fold: 3 ----------\n"
     ]
    },
    {
     "data": {
      "text/html": [],
      "text/plain": [
       "<IPython.core.display.HTML object>"
      ]
     },
     "metadata": {},
     "output_type": "display_data"
    },
    {
     "name": "stdout",
     "output_type": "stream",
     "text": [
      "----------- Fold: 4 ----------\n"
     ]
    },
    {
     "data": {
      "text/html": [],
      "text/plain": [
       "<IPython.core.display.HTML object>"
      ]
     },
     "metadata": {},
     "output_type": "display_data"
    }
   ],
   "source": [
    "import scipy\n",
    "out = np.zeros((1001, 7))\n",
    "for f in (range(5)):\n",
    "    print(f'----------- Fold: {f} ----------')\n",
    "    model = PeftModel.from_pretrained(base_model, f'///mnt/c/Personal/Competitions/Kaggle/h2oai-predict-the-llm/runs/nb005/{f}/')\n",
    "\n",
    "    trainer = Trainer(model=model,\n",
    "                      tokenizer=tokenizer,\n",
    "                      data_collator=data_collator)\n",
    "    pred_output = trainer.predict(test_tokenized_ds)\n",
    "    logits = pred_output.predictions\n",
    "    probits = scipy.special.softmax(logits,1)\n",
    "\n",
    "    out += probits/5\n",
    "    del trainer, model\n",
    "    torch.cuda.empty_cache()    \n",
    "    gc.collect()"
   ]
  },
  {
   "cell_type": "code",
   "execution_count": 52,
   "id": "78953ef0-e3b9-46a3-b5d5-f7098050cf15",
   "metadata": {},
   "outputs": [
    {
     "data": {
      "text/plain": [
       "array([[3.57788086e-01, 2.13571787e-02, 1.42257690e-01, ...,\n",
       "        3.51562500e-01, 5.91926575e-02, 5.65297604e-02],\n",
       "       [1.32858753e-04, 3.08442116e-03, 3.81469727e-05, ...,\n",
       "        1.68383121e-04, 9.94873047e-01, 1.45876408e-03],\n",
       "       [3.57627869e-07, 1.60932541e-06, 3.57627869e-07, ...,\n",
       "        4.17232513e-07, 9.99755859e-01, 1.37090683e-06],\n",
       "       ...,\n",
       "       [1.96762085e-01, 1.01788521e-01, 2.78015137e-01, ...,\n",
       "        3.66149902e-01, 1.05845928e-02, 3.69189978e-02],\n",
       "       [2.90420532e-01, 3.60937119e-02, 2.08209991e-01, ...,\n",
       "        4.19372559e-01, 1.63280964e-03, 3.95431519e-02],\n",
       "       [1.06906891e-03, 2.99870968e-03, 5.77747822e-04, ...,\n",
       "        1.06978416e-03, 1.09314919e-04, 9.93896484e-01]])"
      ]
     },
     "execution_count": 52,
     "metadata": {},
     "output_type": "execute_result"
    }
   ],
   "source": [
    "out"
   ]
  },
  {
   "cell_type": "code",
   "execution_count": 55,
   "id": "169304e4-25bf-4a25-96b4-ccd1c0b0b6b3",
   "metadata": {},
   "outputs": [],
   "source": [
    "sample_submission.iloc[:,1:] = out"
   ]
  },
  {
   "cell_type": "code",
   "execution_count": 58,
   "id": "6e8104e5-6474-42c6-b02c-897423f11736",
   "metadata": {},
   "outputs": [
    {
     "data": {
      "text/plain": [
       "'///mnt/c/Personal/Competitions/Kaggle/h2oai-predict-the-llm/runs/nb005/'"
      ]
     },
     "execution_count": 58,
     "metadata": {},
     "output_type": "execute_result"
    }
   ],
   "source": [
    "OUTPUT_DIR"
   ]
  },
  {
   "cell_type": "code",
   "execution_count": 59,
   "id": "c6b89634-d2dc-4bc1-93d2-a635281492ec",
   "metadata": {},
   "outputs": [],
   "source": [
    "sample_submission.to_csv(f'{OUTPUT_DIR}/submit.csv',index=False)"
   ]
  },
  {
   "cell_type": "code",
   "execution_count": null,
   "id": "165e712f-54f4-455d-8f54-af9bda1c33dc",
   "metadata": {},
   "outputs": [],
   "source": []
  },
  {
   "cell_type": "code",
   "execution_count": null,
   "id": "cb216e06-bea6-45a2-b1a6-444caa76c634",
   "metadata": {},
   "outputs": [],
   "source": []
  },
  {
   "cell_type": "code",
   "execution_count": null,
   "id": "be5f0864-87ce-4fdd-af27-05fd780ef143",
   "metadata": {},
   "outputs": [],
   "source": []
  },
  {
   "cell_type": "code",
   "execution_count": null,
   "id": "71193063-ccb2-4696-bb0d-79cfee32b0ec",
   "metadata": {},
   "outputs": [],
   "source": []
  }
 ],
 "metadata": {
  "kernelspec": {
   "display_name": "Python 3 (ipykernel)",
   "language": "python",
   "name": "python3"
  },
  "language_info": {
   "codemirror_mode": {
    "name": "ipython",
    "version": 3
   },
   "file_extension": ".py",
   "mimetype": "text/x-python",
   "name": "python",
   "nbconvert_exporter": "python",
   "pygments_lexer": "ipython3",
   "version": "3.11.5"
  }
 },
 "nbformat": 4,
 "nbformat_minor": 5
}
